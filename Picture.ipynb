{
 "cells": [
  {
   "cell_type": "code",
   "execution_count": 2,
   "id": "1cf77461-ecb3-4ce7-a476-17420694454c",
   "metadata": {},
   "outputs": [],
   "source": [
    "from PIL import Image\n",
    "pic = Image.open(r'C:\\Users\\cherr\\OneDrive\\圖片\\dog.jpg')"
   ]
  },
  {
   "cell_type": "code",
   "execution_count": 3,
   "id": "adb7bf5b-557d-48fd-b745-6b74eb8ad1db",
   "metadata": {},
   "outputs": [
    {
     "name": "stdout",
     "output_type": "stream",
     "text": [
      "圖片寬度: 1200\n",
      "圖片高度: 673\n"
     ]
    }
   ],
   "source": [
    "print('圖片寬度:',pic.width)\n",
    "print('圖片高度:',pic.height)"
   ]
  },
  {
   "cell_type": "code",
   "execution_count": 4,
   "id": "47915298-7c0f-47e2-ab28-deb4d551de13",
   "metadata": {},
   "outputs": [
    {
     "name": "stdout",
     "output_type": "stream",
     "text": [
      "圖片檔案格式: PNG\n",
      "圖片色彩模式: RGB\n",
      "圖片大小: (1200, 673)\n"
     ]
    }
   ],
   "source": [
    "print('圖片檔案格式:',pic.format)\n",
    "print('圖片色彩模式:',pic.mode)\n",
    "print('圖片大小:',pic.size)"
   ]
  },
  {
   "cell_type": "code",
   "execution_count": 5,
   "id": "f65a20ee-bb60-4040-b158-723214720f11",
   "metadata": {},
   "outputs": [],
   "source": [
    "pic.show()"
   ]
  },
  {
   "cell_type": "code",
   "execution_count": 21,
   "id": "1c91ec4c-efd0-4f76-a3b5-9860e20ea15b",
   "metadata": {},
   "outputs": [
    {
     "name": "stdout",
     "output_type": "stream",
     "text": [
      "原本的圖片色彩模式: RGB\n",
      "轉換黑白後的圖片色彩模式: 1\n"
     ]
    }
   ],
   "source": [
    "print('原本的圖片色彩模式:',pic.mode)\n",
    "new_pic=pic.convert('1')\n",
    "new_pic.show()\n",
    "print('轉換黑白後的圖片色彩模式:',new_pic.mode)"
   ]
  },
  {
   "cell_type": "code",
   "execution_count": 7,
   "id": "a3bec7f2-9cb9-43d0-843e-347d740c17fb",
   "metadata": {},
   "outputs": [],
   "source": [
    "new_pic=pic.rotate(30)\n",
    "new_pic.show()"
   ]
  },
  {
   "cell_type": "code",
   "execution_count": 8,
   "id": "ed1773ef-3d0e-452e-89c3-d8dca868fe1a",
   "metadata": {},
   "outputs": [],
   "source": [
    "new_pic2=pic.rotate(-30)\n",
    "new_pic2.show()"
   ]
  },
  {
   "cell_type": "code",
   "execution_count": 19,
   "id": "20acbc73-de7d-4fba-98f4-2cee9bdddfe6",
   "metadata": {},
   "outputs": [],
   "source": [
    "from PIL import Image\n",
    "from PIL import ImageFilter\n",
    "pic=Image.open(r'C:\\Users\\cherr\\OneDrive\\圖片\\dog.jpg')"
   ]
  },
  {
   "cell_type": "code",
   "execution_count": 20,
   "id": "f943e001-6e33-4bc0-9e72-828b64478961",
   "metadata": {},
   "outputs": [],
   "source": [
    "new_pic=pic.filter(ImageFilter.CONTOUR)\n",
    "new_pic.save('D:/python/dog3.jpg')\n",
    "new_pic.show()"
   ]
  },
  {
   "cell_type": "code",
   "execution_count": 11,
   "id": "511826c8-b2b1-4385-bb5b-39795cee4bc8",
   "metadata": {},
   "outputs": [
    {
     "name": "stdout",
     "output_type": "stream",
     "text": [
      "原圖大小: (1200, 673)\n",
      "縮放後圖形大小: (400, 400)\n"
     ]
    }
   ],
   "source": [
    "print('原圖大小:',pic.size)\n",
    "new_pic=pic.resize((400,400))\n",
    "print('縮放後圖形大小:',new_pic.size)\n",
    "new_pic.save('D:/python/dog4.jpg')\n",
    "new_pic.show()"
   ]
  },
  {
   "cell_type": "code",
   "execution_count": 12,
   "id": "d817a0f4-c277-4c4c-a326-6efaeb38bd52",
   "metadata": {},
   "outputs": [],
   "source": [
    "from PIL import Image, ImageFont, ImageDraw\n",
    "pic=Image.open(r'C:\\Users\\cherr\\OneDrive\\圖片\\dog.jpg')"
   ]
  },
  {
   "cell_type": "code",
   "execution_count": 13,
   "id": "ae408559-4919-4eae-8811-edefd5b86162",
   "metadata": {},
   "outputs": [],
   "source": [
    "t_font=ImageFont.truetype('c://Windows//Fonts//Arial//arial.ttf',30)\n",
    "draw=ImageDraw.Draw(pic)"
   ]
  },
  {
   "cell_type": "code",
   "execution_count": 16,
   "id": "9381e546-68f0-4f97-b83f-231b5d1c4c1e",
   "metadata": {},
   "outputs": [],
   "source": [
    "draw.text((20,30), 'TOKYO', font=t_font, fill=(255,0,0,255))\n",
    "draw.text((20,100), 'dog', font=t_font, fill=(0,255,0,255))\n",
    "pic.show()"
   ]
  }
 ],
 "metadata": {
  "kernelspec": {
   "display_name": "Python 3 (ipykernel)",
   "language": "python",
   "name": "python3"
  },
  "language_info": {
   "codemirror_mode": {
    "name": "ipython",
    "version": 3
   },
   "file_extension": ".py",
   "mimetype": "text/x-python",
   "name": "python",
   "nbconvert_exporter": "python",
   "pygments_lexer": "ipython3",
   "version": "3.11.7"
  }
 },
 "nbformat": 4,
 "nbformat_minor": 5
}
